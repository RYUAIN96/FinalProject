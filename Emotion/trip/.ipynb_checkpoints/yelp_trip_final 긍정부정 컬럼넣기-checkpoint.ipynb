{
 "cells": [
  {
   "cell_type": "code",
   "execution_count": 1,
   "metadata": {},
   "outputs": [],
   "source": [
    "import pandas as pd"
   ]
  },
  {
   "cell_type": "code",
   "execution_count": 4,
   "metadata": {},
   "outputs": [],
   "source": [
    "yelp_trip_final = pd.read_csv(\"./data/yelp_trip_final.csv\")"
   ]
  },
  {
   "cell_type": "code",
   "execution_count": 5,
   "metadata": {},
   "outputs": [
    {
     "data": {
      "text/html": [
       "<div>\n",
       "<style scoped>\n",
       "    .dataframe tbody tr th:only-of-type {\n",
       "        vertical-align: middle;\n",
       "    }\n",
       "\n",
       "    .dataframe tbody tr th {\n",
       "        vertical-align: top;\n",
       "    }\n",
       "\n",
       "    .dataframe thead th {\n",
       "        text-align: right;\n",
       "    }\n",
       "</style>\n",
       "<table border=\"1\" class=\"dataframe\">\n",
       "  <thead>\n",
       "    <tr style=\"text-align: right;\">\n",
       "      <th></th>\n",
       "      <th>Unnamed: 0</th>\n",
       "      <th>user_name</th>\n",
       "      <th>res_name</th>\n",
       "      <th>rating</th>\n",
       "      <th>review</th>\n",
       "      <th>menu</th>\n",
       "    </tr>\n",
       "  </thead>\n",
       "  <tbody>\n",
       "    <tr>\n",
       "      <th>0</th>\n",
       "      <td>0</td>\n",
       "      <td>KgQnRvsPSrJJTOCp-reYZA</td>\n",
       "      <td>Seoul Garden Korean Restaurant</td>\n",
       "      <td>5</td>\n",
       "      <td>We have been here three times now and have lov...</td>\n",
       "      <td>['bulgogi', 'galbigui', 'kimchijjigae', 'doenj...</td>\n",
       "    </tr>\n",
       "    <tr>\n",
       "      <th>1</th>\n",
       "      <td>1</td>\n",
       "      <td>1goJa-4OKwc--vlISRm54g</td>\n",
       "      <td>Seoul Garden Korean Restaurant</td>\n",
       "      <td>5</td>\n",
       "      <td>Seoul Garden was excellent.  We moved to this ...</td>\n",
       "      <td>['bulgogi', 'galbigui', 'kimchijjigae', 'doenj...</td>\n",
       "    </tr>\n",
       "    <tr>\n",
       "      <th>2</th>\n",
       "      <td>2</td>\n",
       "      <td>6agrhhelmT9DLUfx4EeZVA</td>\n",
       "      <td>Seoul Garden Korean Restaurant</td>\n",
       "      <td>4</td>\n",
       "      <td>I like this place a lot. One of the best Korea...</td>\n",
       "      <td>['bulgogi', 'galbigui', 'kimchijjigae', 'doenj...</td>\n",
       "    </tr>\n",
       "    <tr>\n",
       "      <th>3</th>\n",
       "      <td>3</td>\n",
       "      <td>AvaeN3hgxdytAEMlNud-FQ</td>\n",
       "      <td>Seoul Garden Korean Restaurant</td>\n",
       "      <td>5</td>\n",
       "      <td>Korean Barbecue at its finest. The outside doe...</td>\n",
       "      <td>['bulgogi', 'galbigui', 'kimchijjigae', 'doenj...</td>\n",
       "    </tr>\n",
       "    <tr>\n",
       "      <th>4</th>\n",
       "      <td>4</td>\n",
       "      <td>wML8YiFzB1JuCfyhPptiSg</td>\n",
       "      <td>Seoul Garden Korean Restaurant</td>\n",
       "      <td>2</td>\n",
       "      <td>Food was ok. The food looks good in pictures b...</td>\n",
       "      <td>['bulgogi', 'galbigui', 'kimchijjigae', 'doenj...</td>\n",
       "    </tr>\n",
       "  </tbody>\n",
       "</table>\n",
       "</div>"
      ],
      "text/plain": [
       "   Unnamed: 0               user_name                        res_name  rating  \\\n",
       "0           0  KgQnRvsPSrJJTOCp-reYZA  Seoul Garden Korean Restaurant       5   \n",
       "1           1  1goJa-4OKwc--vlISRm54g  Seoul Garden Korean Restaurant       5   \n",
       "2           2  6agrhhelmT9DLUfx4EeZVA  Seoul Garden Korean Restaurant       4   \n",
       "3           3  AvaeN3hgxdytAEMlNud-FQ  Seoul Garden Korean Restaurant       5   \n",
       "4           4  wML8YiFzB1JuCfyhPptiSg  Seoul Garden Korean Restaurant       2   \n",
       "\n",
       "                                              review  \\\n",
       "0  We have been here three times now and have lov...   \n",
       "1  Seoul Garden was excellent.  We moved to this ...   \n",
       "2  I like this place a lot. One of the best Korea...   \n",
       "3  Korean Barbecue at its finest. The outside doe...   \n",
       "4  Food was ok. The food looks good in pictures b...   \n",
       "\n",
       "                                                menu  \n",
       "0  ['bulgogi', 'galbigui', 'kimchijjigae', 'doenj...  \n",
       "1  ['bulgogi', 'galbigui', 'kimchijjigae', 'doenj...  \n",
       "2  ['bulgogi', 'galbigui', 'kimchijjigae', 'doenj...  \n",
       "3  ['bulgogi', 'galbigui', 'kimchijjigae', 'doenj...  \n",
       "4  ['bulgogi', 'galbigui', 'kimchijjigae', 'doenj...  "
      ]
     },
     "execution_count": 5,
     "metadata": {},
     "output_type": "execute_result"
    }
   ],
   "source": [
    "yelp_trip_final.head()"
   ]
  },
  {
   "cell_type": "code",
   "execution_count": 6,
   "metadata": {},
   "outputs": [],
   "source": [
    "yelp_trip_final = yelp_trip_final.drop([\"Unnamed: 0\"], axis=1)"
   ]
  },
  {
   "cell_type": "code",
   "execution_count": null,
   "metadata": {},
   "outputs": [],
   "source": []
  }
 ],
 "metadata": {
  "kernelspec": {
   "display_name": "Python 3",
   "language": "python",
   "name": "python3"
  },
  "language_info": {
   "codemirror_mode": {
    "name": "ipython",
    "version": 3
   },
   "file_extension": ".py",
   "mimetype": "text/x-python",
   "name": "python",
   "nbconvert_exporter": "python",
   "pygments_lexer": "ipython3",
   "version": "3.7.6"
  }
 },
 "nbformat": 4,
 "nbformat_minor": 4
}
