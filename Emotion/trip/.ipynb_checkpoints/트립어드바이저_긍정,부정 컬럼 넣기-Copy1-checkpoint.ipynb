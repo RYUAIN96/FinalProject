{
 "cells": [
  {
   "cell_type": "markdown",
   "metadata": {},
   "source": [
    "# 목표 : stopword 만들기"
   ]
  },
  {
   "cell_type": "code",
   "execution_count": 1,
   "metadata": {},
   "outputs": [],
   "source": [
    "import pandas as pd"
   ]
  },
  {
   "cell_type": "code",
   "execution_count": 2,
   "metadata": {},
   "outputs": [],
   "source": [
    "trip = pd.read_csv(\"./data/trip_final.csv\")"
   ]
  },
  {
   "cell_type": "code",
   "execution_count": 3,
   "metadata": {},
   "outputs": [],
   "source": [
    "trip = trip.drop([\"Unnamed: 0\"], axis=1)"
   ]
  },
  {
   "cell_type": "code",
   "execution_count": 4,
   "metadata": {
    "scrolled": false
   },
   "outputs": [
    {
     "data": {
      "text/html": [
       "<div>\n",
       "<style scoped>\n",
       "    .dataframe tbody tr th:only-of-type {\n",
       "        vertical-align: middle;\n",
       "    }\n",
       "\n",
       "    .dataframe tbody tr th {\n",
       "        vertical-align: top;\n",
       "    }\n",
       "\n",
       "    .dataframe thead th {\n",
       "        text-align: right;\n",
       "    }\n",
       "</style>\n",
       "<table border=\"1\" class=\"dataframe\">\n",
       "  <thead>\n",
       "    <tr style=\"text-align: right;\">\n",
       "      <th></th>\n",
       "      <th>user_name</th>\n",
       "      <th>res_name</th>\n",
       "      <th>rating</th>\n",
       "      <th>rev_title</th>\n",
       "      <th>review</th>\n",
       "      <th>menu</th>\n",
       "    </tr>\n",
       "  </thead>\n",
       "  <tbody>\n",
       "    <tr>\n",
       "      <th>0</th>\n",
       "      <td>AppleTech</td>\n",
       "      <td>Korea House</td>\n",
       "      <td>5.0</td>\n",
       "      <td>Fun and Authentic Experience with Great Service</td>\n",
       "      <td>We’d never had Korean before and I’d been want...</td>\n",
       "      <td>['kimchijjigae', 'samgyeopsal']</td>\n",
       "    </tr>\n",
       "    <tr>\n",
       "      <th>1</th>\n",
       "      <td>NickyD202</td>\n",
       "      <td>Korea House</td>\n",
       "      <td>5.0</td>\n",
       "      <td>Get the seafood pancake</td>\n",
       "      <td>I really was unsure of how much of the menu wo...</td>\n",
       "      <td>['kimchijjigae', 'samgyeopsal']</td>\n",
       "    </tr>\n",
       "    <tr>\n",
       "      <th>2</th>\n",
       "      <td>RCSColumbus</td>\n",
       "      <td>Korea House</td>\n",
       "      <td>5.0</td>\n",
       "      <td>The Real Deal Korean</td>\n",
       "      <td>Absolutely delicious authentic Korean food ser...</td>\n",
       "      <td>['kimchijjigae', 'samgyeopsal']</td>\n",
       "    </tr>\n",
       "  </tbody>\n",
       "</table>\n",
       "</div>"
      ],
      "text/plain": [
       "     user_name     res_name  rating  \\\n",
       "0    AppleTech  Korea House     5.0   \n",
       "1    NickyD202  Korea House     5.0   \n",
       "2  RCSColumbus  Korea House     5.0   \n",
       "\n",
       "                                         rev_title  \\\n",
       "0  Fun and Authentic Experience with Great Service   \n",
       "1                          Get the seafood pancake   \n",
       "2                             The Real Deal Korean   \n",
       "\n",
       "                                              review  \\\n",
       "0  We’d never had Korean before and I’d been want...   \n",
       "1  I really was unsure of how much of the menu wo...   \n",
       "2  Absolutely delicious authentic Korean food ser...   \n",
       "\n",
       "                              menu  \n",
       "0  ['kimchijjigae', 'samgyeopsal']  \n",
       "1  ['kimchijjigae', 'samgyeopsal']  \n",
       "2  ['kimchijjigae', 'samgyeopsal']  "
      ]
     },
     "execution_count": 4,
     "metadata": {},
     "output_type": "execute_result"
    }
   ],
   "source": [
    "trip.head(3)"
   ]
  },
  {
   "cell_type": "code",
   "execution_count": 5,
   "metadata": {},
   "outputs": [],
   "source": [
    "trip[\"P/N\"] = None"
   ]
  },
  {
   "cell_type": "code",
   "execution_count": 6,
   "metadata": {},
   "outputs": [
    {
     "data": {
      "text/html": [
       "<div>\n",
       "<style scoped>\n",
       "    .dataframe tbody tr th:only-of-type {\n",
       "        vertical-align: middle;\n",
       "    }\n",
       "\n",
       "    .dataframe tbody tr th {\n",
       "        vertical-align: top;\n",
       "    }\n",
       "\n",
       "    .dataframe thead th {\n",
       "        text-align: right;\n",
       "    }\n",
       "</style>\n",
       "<table border=\"1\" class=\"dataframe\">\n",
       "  <thead>\n",
       "    <tr style=\"text-align: right;\">\n",
       "      <th></th>\n",
       "      <th>user_name</th>\n",
       "      <th>res_name</th>\n",
       "      <th>rating</th>\n",
       "      <th>rev_title</th>\n",
       "      <th>review</th>\n",
       "      <th>menu</th>\n",
       "      <th>P/N</th>\n",
       "    </tr>\n",
       "  </thead>\n",
       "  <tbody>\n",
       "    <tr>\n",
       "      <th>0</th>\n",
       "      <td>AppleTech</td>\n",
       "      <td>Korea House</td>\n",
       "      <td>5.0</td>\n",
       "      <td>Fun and Authentic Experience with Great Service</td>\n",
       "      <td>We’d never had Korean before and I’d been want...</td>\n",
       "      <td>['kimchijjigae', 'samgyeopsal']</td>\n",
       "      <td>None</td>\n",
       "    </tr>\n",
       "    <tr>\n",
       "      <th>1</th>\n",
       "      <td>NickyD202</td>\n",
       "      <td>Korea House</td>\n",
       "      <td>5.0</td>\n",
       "      <td>Get the seafood pancake</td>\n",
       "      <td>I really was unsure of how much of the menu wo...</td>\n",
       "      <td>['kimchijjigae', 'samgyeopsal']</td>\n",
       "      <td>None</td>\n",
       "    </tr>\n",
       "    <tr>\n",
       "      <th>2</th>\n",
       "      <td>RCSColumbus</td>\n",
       "      <td>Korea House</td>\n",
       "      <td>5.0</td>\n",
       "      <td>The Real Deal Korean</td>\n",
       "      <td>Absolutely delicious authentic Korean food ser...</td>\n",
       "      <td>['kimchijjigae', 'samgyeopsal']</td>\n",
       "      <td>None</td>\n",
       "    </tr>\n",
       "  </tbody>\n",
       "</table>\n",
       "</div>"
      ],
      "text/plain": [
       "     user_name     res_name  rating  \\\n",
       "0    AppleTech  Korea House     5.0   \n",
       "1    NickyD202  Korea House     5.0   \n",
       "2  RCSColumbus  Korea House     5.0   \n",
       "\n",
       "                                         rev_title  \\\n",
       "0  Fun and Authentic Experience with Great Service   \n",
       "1                          Get the seafood pancake   \n",
       "2                             The Real Deal Korean   \n",
       "\n",
       "                                              review  \\\n",
       "0  We’d never had Korean before and I’d been want...   \n",
       "1  I really was unsure of how much of the menu wo...   \n",
       "2  Absolutely delicious authentic Korean food ser...   \n",
       "\n",
       "                              menu   P/N  \n",
       "0  ['kimchijjigae', 'samgyeopsal']  None  \n",
       "1  ['kimchijjigae', 'samgyeopsal']  None  \n",
       "2  ['kimchijjigae', 'samgyeopsal']  None  "
      ]
     },
     "execution_count": 6,
     "metadata": {},
     "output_type": "execute_result"
    }
   ],
   "source": [
    "trip.head(3)"
   ]
  },
  {
   "cell_type": "code",
   "execution_count": 91,
   "metadata": {},
   "outputs": [
    {
     "data": {
      "text/plain": [
       "'We’d never had Korean before and I’d been wanting to try this for a while. We let our server know we’d never had it before and she gave us some recommendations. We ended up going with the beef bulgogi and the dolsot bibimbap. Both were great. It is important to know that some of the food is season to taste - so plan to add some of the table sauce and soy sauce to make it how you like it. The appetizer sides that came with each entree were great too. Service was excellent and everyone was very friendly. Lots of regulars while we were there.'"
      ]
     },
     "execution_count": 91,
     "metadata": {},
     "output_type": "execute_result"
    }
   ],
   "source": [
    "tmp = trip[\"review\"]\n",
    "tmp[0]"
   ]
  },
  {
   "cell_type": "code",
   "execution_count": 20,
   "metadata": {},
   "outputs": [],
   "source": [
    "import re\n",
    "from time import time"
   ]
  },
  {
   "cell_type": "code",
   "execution_count": 12,
   "metadata": {
    "scrolled": true
   },
   "outputs": [
    {
     "name": "stdout",
     "output_type": "stream",
     "text": [
      "Requirement already satisfied: nltk in c:\\users\\admin\\anaconda3\\lib\\site-packages (3.4.5)\n",
      "Requirement already satisfied: six in c:\\users\\admin\\anaconda3\\lib\\site-packages (from nltk) (1.14.0)\n",
      "Note: you may need to restart the kernel to use updated packages.\n"
     ]
    }
   ],
   "source": [
    "pip install nltk"
   ]
  },
  {
   "cell_type": "code",
   "execution_count": 56,
   "metadata": {},
   "outputs": [],
   "source": [
    "import re\n",
    "import pandas as pd\n",
    "from time import time\n",
    "\n",
    "# 전처리 작업을 위해 호출될 함수\n",
    "def preprocessor(text) :\n",
    "    # 문자열의 내의 html 태그를 삭제한다.\n",
    "    # 문자열에서 이모티콘을 찾아낸다.\n",
    "    emoticons = re.findall('(?::|;|=)(?:-)?(?:\\)|\\(|D|P)|\\^.?\\^', str(text))\n",
    "    # 문장에서 특수문자를 제거하고\n",
    "    # 문자열을 소문자로 변하고\n",
    "    # 추출한 이모티콘을 붙혀준다.\n",
    "    text = re.sub('[\\W]+', ' ', str(text).lower() + ' '.join(emoticons).replace('-', ''))\n",
    "    # print(text)\n",
    "    return text"
   ]
  },
  {
   "cell_type": "code",
   "execution_count": 57,
   "metadata": {
    "scrolled": true
   },
   "outputs": [
    {
     "data": {
      "text/plain": [
       "0        we d never had korean before and i d been want...\n",
       "1        i really was unsure of how much of the menu wo...\n",
       "2        absolutely delicious authentic korean food ser...\n",
       "3        the banchan or side dishes that they serve are...\n",
       "4        my eleven year old twins beg to get biminbop o...\n",
       "                               ...                        \n",
       "49335    only 2 veggie dishes on menu vegetable noodles...\n",
       "49336    we enjoyed ourselves so much we returned the n...\n",
       "49337    went with a couple of friends for dinner chick...\n",
       "49338    we both enjoyed our meal at this restaurant an...\n",
       "49339    the place was busy doesn t take reservation an...\n",
       "Name: review, Length: 49340, dtype: object"
      ]
     },
     "execution_count": 57,
     "metadata": {},
     "output_type": "execute_result"
    }
   ],
   "source": [
    "trip[\"review\"].apply(preprocessor)"
   ]
  },
  {
   "cell_type": "code",
   "execution_count": 74,
   "metadata": {},
   "outputs": [],
   "source": [
    "def step2_preprocessing() :\n",
    "    # csv 데이터를 읽어온다.\n",
    "    df = pd.read_csv('./data/trip_final.csv')\n",
    "\n",
    "    # 전처리 작업\n",
    "    stime = time()\n",
    "    print('전처리 시작')\n",
    "    df[\"review\"] = df['review'].apply(preprocessor)\n",
    "    print('전처리 완료')\n",
    "    print('소요시간 : %d' % (time() - stime))\n",
    "\n",
    "    # 전처리된 데이터를 저장한다.\n",
    "    df.to_csv('./data/pre_review.csv', index=False)"
   ]
  },
  {
   "cell_type": "code",
   "execution_count": 76,
   "metadata": {
    "scrolled": true
   },
   "outputs": [
    {
     "name": "stdout",
     "output_type": "stream",
     "text": [
      "전처리 시작\n",
      "전처리 완료\n",
      "소요시간 : 1\n"
     ]
    }
   ],
   "source": [
    "step2_preprocessing()"
   ]
  },
  {
   "cell_type": "code",
   "execution_count": 82,
   "metadata": {},
   "outputs": [],
   "source": [
    "from sklearn.model_selection import train_test_split"
   ]
  },
  {
   "cell_type": "code",
   "execution_count": 78,
   "metadata": {},
   "outputs": [],
   "source": [
    "# 평점 전처리\n",
    "def star_proprocessing(text) :\n",
    "    value = int(text)\n",
    "    if value <= 3.0 :\n",
    "        return '0'\n",
    "    else :\n",
    "        return '1'"
   ]
  },
  {
   "cell_type": "code",
   "execution_count": 83,
   "metadata": {},
   "outputs": [],
   "source": [
    "def step2_preprocessing():\n",
    "    # 수집한 데이터를 읽어온다.\n",
    "    df = pd.read_csv('./data/trip_final.csv')\n",
    "    # print(df)\n",
    "\n",
    "    # 전처리 과정\n",
    "    df['rating'] = df['rating'].apply(star_proprocessing)\n",
    "    # 학습 데이터와 테스트 데이터로 나눈다.\n",
    "    text_list = df['review'].tolist()\n",
    "    star_list = df['rating'].tolist()\n",
    "\n",
    "    text_train, text_test, star_train, star_test = train_test_split(text_list, star_list, test_size=0.3, random_state=0)\n",
    "    #print(len(text_train))\n",
    "    #print(len(text_test))\n",
    "    #print(len(star_train))\n",
    "    #print(len(star_test))\n",
    "\n",
    "    # 저장한다.\n",
    "    dic_train = {\n",
    "        'text' : text_train,\n",
    "        'star' : star_train\n",
    "    }\n",
    "    df_tran = pd.DataFrame(dic_train)\n",
    "\n",
    "    dic_test = {\n",
    "        'text' : text_test,\n",
    "        'star' : star_test\n",
    "    }\n",
    "    df_test = pd.DataFrame(dic_test)\n",
    "\n",
    "    df_tran.to_csv('./data/trip_train_data.csv', index=False)\n",
    "    df_test.to_csv('./data/trip_test_data.csv', index=False)"
   ]
  },
  {
   "cell_type": "code",
   "execution_count": 84,
   "metadata": {},
   "outputs": [],
   "source": [
    "step2_preprocessing()"
   ]
  },
  {
   "cell_type": "code",
   "execution_count": 85,
   "metadata": {},
   "outputs": [
    {
     "name": "stderr",
     "output_type": "stream",
     "text": [
      "[nltk_data] Downloading package stopwords to\n",
      "[nltk_data]     C:\\Users\\admin\\AppData\\Roaming\\nltk_data...\n",
      "[nltk_data]   Package stopwords is already up-to-date!\n"
     ]
    }
   ],
   "source": [
    "# step3_word_tokenizer.py\n",
    "from nltk.stem.porter import PorterStemmer\n",
    "from nltk.corpus import stopwords\n",
    "import nltk\n",
    "\n",
    "# stopword 단어 사전을 다운로드 받는다.\n",
    "nltk.download('stopwords')\n",
    "# stopword 데이터를 가져온다.\n",
    "stop = stopwords.words('english')\n",
    "# 단어 줄기를 하기위한 객체\n",
    "porter = PorterStemmer()"
   ]
  },
  {
   "cell_type": "code",
   "execution_count": 86,
   "metadata": {},
   "outputs": [],
   "source": [
    "# 공백으로 단어분리\n",
    "def tokenizer(text) :\n",
    "    return text.split()"
   ]
  },
  {
   "cell_type": "code",
   "execution_count": 87,
   "metadata": {},
   "outputs": [],
   "source": [
    "# 단어줄기\n",
    "def tokenizer_porter(text) :\n",
    "    # 띄어쓰기를 기준으로 분리한다.\n",
    "    word_list = text.split()\n",
    "    #단어 줄기 처리\n",
    "    word_list2 = \\\n",
    "        [porter.stem(word) for word in word_list]\n",
    "    return word_list2"
   ]
  },
  {
   "cell_type": "code",
   "execution_count": 88,
   "metadata": {},
   "outputs": [],
   "source": [
    "def tokenizer_stopwordsr(text) :\n",
    "    # 띄어쓰기를 기준으로 분리한다.\n",
    "    word_list = text.split()\n",
    "    #단어 줄기 처리\n",
    "    word_list2 = \\\n",
    "        [porter.stem(word) for word in word_list]\n",
    "    #불용어 처리\n",
    "    result = []\n",
    "    for w in word_list2: \n",
    "        if w not in stop: \n",
    "            result.append(w)\n",
    "    return result"
   ]
  },
  {
   "cell_type": "code",
   "execution_count": 90,
   "metadata": {},
   "outputs": [],
   "source": [
    "def step3_word_tokenizer() :\n",
    "    text = 'runners like running and thus they run'\n",
    "\n",
    "    a1 = tokenizer(text)\n",
    "    a2 = tokenizer_porter(text)\n",
    "    print('a1 :', a1)\n",
    "    print('a2 :', a2)"
   ]
  },
  {
   "cell_type": "code",
   "execution_count": 89,
   "metadata": {},
   "outputs": [
    {
     "name": "stderr",
     "output_type": "stream",
     "text": [
      "[nltk_data] Downloading package stopwords to\n",
      "[nltk_data]     C:\\Users\\admin\\AppData\\Roaming\\nltk_data...\n",
      "[nltk_data]   Package stopwords is already up-to-date!\n"
     ]
    }
   ],
   "source": [
    "from sklearn.metrics import r2_score\n",
    "from sklearn.metrics import mean_absolute_error\n",
    "from sklearn.metrics import mean_squared_error\n",
    "import pickle\n",
    "from time import time\n",
    "import pandas as pd\n",
    "from step3_word_tokenizer import tokenizer, tokenizer_porter, tokenizer_stopwordsr"
   ]
  },
  {
   "cell_type": "code",
   "execution_count": null,
   "metadata": {},
   "outputs": [],
   "source": [
    "def step4_learning() :\n",
    "    # csv 파일에서 데이터를 읽어온다.\n",
    "    df = pd.read_csv('./data/refined_movie_review.csv')\n",
    "    # 테스트, 학습데이터로 나눈다.\n",
    "    X_train = df.loc[:35000 - 1, 'review'].values\n",
    "    y_train = df.loc[:35000 - 1, 'sentiment'].values\n",
    "\n",
    "    X_test = df.loc[35000:50000, 'review'].values\n",
    "    y_test = df.loc[35000:50000, 'sentiment'].values\n",
    "\n",
    "    # X_train, X_test, y_train, y_test = train_test_split(df['review'], df['sentiment'], test_size=0.3, random_state=0)\n",
    "    # print(y_test)\n",
    "    # print(len(X_train), len(X_test))\n",
    "\n",
    "    # 단어장을 만들어주는 객체 생성\n",
    "    tfidf = TfidfVectorizer(lowercase=False, tokenizer=tokenizer_porter)\n",
    "    # tfidf = TfidfVectorizer(lowercase=False, tokenizer=tokenizer_stopwordsr)\n",
    "    # 데이터를 학습하기 위한 객체\n",
    "    logistic = LogisticRegression(C=10.0, penalty='l2', random_state=0)\n",
    "    # 파이프 라인 설정\n",
    "    pipeline = Pipeline([('vect', tfidf), ('clf', logistic)])\n",
    "\n",
    "    # 학습한다.\n",
    "    stime = time()\n",
    "    print('학습 시작')\n",
    "    pipeline.fit(X_train, y_train)\n",
    "    print('학습 종료')\n",
    "    print('총 학습시간 : %d' % (time() - stime))\n",
    "\n",
    "    # 테스트\n",
    "    y_pred = pipeline.predict(X_test)\n",
    "    print(\"정확도 : %.3f\" % accuracy_score(y_test, y_pred))\n",
    "\n",
    "    # 성능 확인\n",
    "    y_true = y_test\n",
    "    y_hat = y_pred\n",
    "    print(\"R2 score : \", r2_score(y_true, y_hat))\n",
    "    print(\"mean_absolute_error : \", mean_absolute_error(y_true, y_hat))\n",
    "    print(\"mean_squared_error : \", mean_squared_error(y_true, y_hat))\n",
    "\n",
    "    # 학습이 완료된 객체를 저장한다.\n",
    "    with open('./data/trip.dat', 'wb') as fp :\n",
    "        pickle.dump(pipeline, fp)\n",
    "\n",
    "    print('저장완료')"
   ]
  },
  {
   "cell_type": "code",
   "execution_count": null,
   "metadata": {},
   "outputs": [],
   "source": [
    "def step4_learning() :\n",
    "    # csv 파일에서 데이터를 읽어온다.\n",
    "    df = pd.read_csv('./data/refined_movie_review.csv')\n",
    "    # 테스트, 학습데이터로 나눈다.\n",
    "    X_train = df.loc[:35000 - 1, 'review'].values\n",
    "    y_train = df.loc[:35000 - 1, 'sentiment'].values\n",
    "\n",
    "    X_test = df.loc[35000:50000, 'review'].values\n",
    "    y_test = df.loc[35000:50000, 'sentiment'].values\n",
    "\n",
    "    # X_train, X_test, y_train, y_test = train_test_split(df['review'], df['sentiment'], test_size=0.3, random_state=0)\n",
    "    # print(y_test)\n",
    "    # print(len(X_train), len(X_test))\n",
    "\n",
    "    # 단어장을 만들어주는 객체 생성\n",
    "    tfidf = TfidfVectorizer(lowercase=False, tokenizer=tokenizer_porter)\n",
    "    # tfidf = TfidfVectorizer(lowercase=False, tokenizer=tokenizer_stopwordsr)\n",
    "    # 데이터를 학습하기 위한 객체\n",
    "    logistic = LogisticRegression(C=10.0, penalty='l2', random_state=0)\n",
    "    # 파이프 라인 설정\n",
    "    pipeline = Pipeline([('vect', tfidf), ('clf', logistic)])\n",
    "\n",
    "    # 학습한다.\n",
    "    stime = time()\n",
    "    print('학습 시작')\n",
    "    pipeline.fit(X_train, y_train)\n",
    "    print('학습 종료')\n",
    "    print('총 학습시간 : %d' % (time() - stime))\n",
    "\n",
    "    # 테스트\n",
    "    y_pred = pipeline.predict(X_test)\n",
    "    print(\"정확도 : %.3f\" % accuracy_score(y_test, y_pred))\n",
    "\n",
    "    # 성능 확인\n",
    "    y_true = y_test\n",
    "    y_hat = y_pred\n",
    "    print(\"R2 score : \", r2_score(y_true, y_hat))\n",
    "    print(\"mean_absolute_error : \", mean_absolute_error(y_true, y_hat))\n",
    "    print(\"mean_squared_error : \", mean_squared_error(y_true, y_hat))\n",
    "\n",
    "    # 학습이 완료된 객체를 저장한다.\n",
    "    with open('./data/trip.dat', 'wb') as fp :\n",
    "        pickle.dump(pipeline, fp)\n",
    "\n",
    "    print('저장완료')"
   ]
  },
  {
   "cell_type": "code",
   "execution_count": 9,
   "metadata": {},
   "outputs": [],
   "source": [
    "trip_1000 = trip[:999]"
   ]
  },
  {
   "cell_type": "code",
   "execution_count": 10,
   "metadata": {},
   "outputs": [
    {
     "data": {
      "text/plain": [
       "999"
      ]
     },
     "execution_count": 10,
     "metadata": {},
     "output_type": "execute_result"
    }
   ],
   "source": [
    "len(trip_1000) # 1000개만 포함된 trip 데이터 프레임"
   ]
  },
  {
   "cell_type": "code",
   "execution_count": 7,
   "metadata": {},
   "outputs": [],
   "source": [
    "trip_10 = trip[:9]"
   ]
  },
  {
   "cell_type": "code",
   "execution_count": null,
   "metadata": {},
   "outputs": [],
   "source": [
    "for i, j in enumerate(trip_10['review']):\n",
    "    print(j)\n",
    "    tmp = input(\"감성을 입력하세요\")\n",
    "    trip_10[\"P/N\"][i] = tmp"
   ]
  },
  {
   "cell_type": "code",
   "execution_count": null,
   "metadata": {},
   "outputs": [],
   "source": []
  }
 ],
 "metadata": {
  "kernelspec": {
   "display_name": "Python 3",
   "language": "python",
   "name": "python3"
  },
  "language_info": {
   "codemirror_mode": {
    "name": "ipython",
    "version": 3
   },
   "file_extension": ".py",
   "mimetype": "text/x-python",
   "name": "python",
   "nbconvert_exporter": "python",
   "pygments_lexer": "ipython3",
   "version": "3.7.6"
  }
 },
 "nbformat": 4,
 "nbformat_minor": 4
}
